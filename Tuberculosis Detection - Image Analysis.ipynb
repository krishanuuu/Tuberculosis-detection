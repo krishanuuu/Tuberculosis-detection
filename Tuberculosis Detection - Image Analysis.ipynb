{
 "cells": [
  {
   "cell_type": "code",
   "execution_count": 1,
   "metadata": {},
   "outputs": [],
   "source": [
    "from imutils import paths\n",
    "import cv2\n",
    "import os\n",
    "from sklearn.utils import shuffle\n",
    "import pandas as pd\n",
    "import numpy as np\n",
    "from sklearn.model_selection import train_test_split"
   ]
  },
  {
   "cell_type": "code",
   "execution_count": 2,
   "metadata": {},
   "outputs": [],
   "source": [
    "import warnings\n",
    "warnings.filterwarnings('ignore')"
   ]
  },
  {
   "cell_type": "code",
   "execution_count": 3,
   "metadata": {},
   "outputs": [],
   "source": [
    "import tensorflow as tf\n",
    "from tensorflow import keras"
   ]
  },
  {
   "cell_type": "code",
   "execution_count": 4,
   "metadata": {},
   "outputs": [],
   "source": [
    "images = []\n",
    "labels = []\n",
    "shape = (128, 128)\n",
    "image_path = 'D:/Machine Learning/Tuberculosis Detection/images/'"
   ]
  },
  {
   "cell_type": "code",
   "execution_count": 5,
   "metadata": {},
   "outputs": [],
   "source": [
    "for i in range(0,2):\n",
    "    folder_name = image_path + 'TUBERCULOSIS' + str(i) + \"/\"\n",
    "    path_list = os.listdir(folder_name)\n",
    "    #print(path_list)\n",
    "    for j in path_list:\n",
    "        if '.jpg' in j:\n",
    "            labels.append(i)\n",
    "            img = cv2.imread(os.path.join(folder_name, j))\n",
    "            img = cv2.resize(img, shape)\n",
    "            images.append(img)"
   ]
  },
  {
   "cell_type": "code",
   "execution_count": 6,
   "metadata": {},
   "outputs": [],
   "source": [
    "images_array = np.array(images)\n",
    "labels_array = np.array(labels)"
   ]
  },
  {
   "cell_type": "code",
   "execution_count": 7,
   "metadata": {},
   "outputs": [],
   "source": [
    "X_train, X_test, y_train, y_test = train_test_split(images_array, labels_array, test_size=0.2, random_state=10)"
   ]
  },
  {
   "cell_type": "code",
   "execution_count": 8,
   "metadata": {},
   "outputs": [
    {
     "data": {
      "text/plain": [
       "((1875, 128, 128, 3), (1875,), (469, 128, 128, 3), (469,))"
      ]
     },
     "execution_count": 8,
     "metadata": {},
     "output_type": "execute_result"
    }
   ],
   "source": [
    "X_train.shape, y_train.shape, X_test.shape, y_test.shape"
   ]
  },
  {
   "cell_type": "code",
   "execution_count": 9,
   "metadata": {},
   "outputs": [],
   "source": [
    "#X_train, y_train = shuffle(X_train, y_train)\n",
    "X_test, y_test = shuffle(X_test, y_test)"
   ]
  },
  {
   "cell_type": "code",
   "execution_count": 10,
   "metadata": {},
   "outputs": [],
   "source": [
    "loss_fn = keras.losses.SparseCategoricalCrossentropy()"
   ]
  },
  {
   "cell_type": "markdown",
   "metadata": {},
   "source": [
    " # Convolutional Neural Network"
   ]
  },
  {
   "cell_type": "code",
   "execution_count": 11,
   "metadata": {},
   "outputs": [
    {
     "name": "stdout",
     "output_type": "stream",
     "text": [
      "WARNING:tensorflow:From D:\\anaconda3\\envs\\tensorflow\\lib\\site-packages\\tensorflow\\python\\ops\\init_ops.py:1251: calling VarianceScaling.__init__ (from tensorflow.python.ops.init_ops) with dtype is deprecated and will be removed in a future version.\n",
      "Instructions for updating:\n",
      "Call initializer instance with the dtype argument instead of passing it to the constructor\n",
      "WARNING:tensorflow:From D:\\anaconda3\\envs\\tensorflow\\lib\\site-packages\\tensorflow\\python\\keras\\backend.py:4075: add_dispatch_support.<locals>.wrapper (from tensorflow.python.ops.array_ops) is deprecated and will be removed in a future version.\n",
      "Instructions for updating:\n",
      "Use tf.where in 2.0, which has the same broadcast rule as np.where\n",
      "Epoch 1/40\n",
      "1875/1875 [==============================] - 157s 84ms/sample - loss: 8.8725 - acc: 0.6123\n",
      "Epoch 2/40\n",
      "1875/1875 [==============================] - 166s 88ms/sample - loss: 0.5456 - acc: 0.7211\n",
      "Epoch 3/40\n",
      "1875/1875 [==============================] - 164s 87ms/sample - loss: 0.4922 - acc: 0.7381\n",
      "Epoch 4/40\n",
      "1875/1875 [==============================] - 164s 87ms/sample - loss: 0.4682 - acc: 0.7792\n",
      "Epoch 5/40\n",
      "1875/1875 [==============================] - 165s 88ms/sample - loss: 0.4829 - acc: 0.7755\n",
      "Epoch 6/40\n",
      "1875/1875 [==============================] - 166s 88ms/sample - loss: 0.4385 - acc: 0.7925\n",
      "Epoch 7/40\n",
      "1875/1875 [==============================] - 163s 87ms/sample - loss: 0.4238 - acc: 0.7909\n",
      "Epoch 8/40\n",
      "1875/1875 [==============================] - 165s 88ms/sample - loss: 0.4611 - acc: 0.7808\n",
      "Epoch 9/40\n",
      "1875/1875 [==============================] - 164s 87ms/sample - loss: 0.8415 - acc: 0.7093\n",
      "Epoch 10/40\n",
      "1875/1875 [==============================] - 164s 87ms/sample - loss: 0.5839 - acc: 0.6837\n",
      "Epoch 11/40\n",
      "1875/1875 [==============================] - 163s 87ms/sample - loss: 0.4846 - acc: 0.7749\n",
      "Epoch 12/40\n",
      "1875/1875 [==============================] - 164s 87ms/sample - loss: 0.4776 - acc: 0.7733\n",
      "Epoch 13/40\n",
      "1875/1875 [==============================] - 163s 87ms/sample - loss: 0.4412 - acc: 0.7920\n",
      "Epoch 14/40\n",
      "1875/1875 [==============================] - 163s 87ms/sample - loss: 0.4179 - acc: 0.8128\n",
      "Epoch 15/40\n",
      "1875/1875 [==============================] - 163s 87ms/sample - loss: 0.4183 - acc: 0.8005\n",
      "Epoch 16/40\n",
      "1875/1875 [==============================] - 164s 87ms/sample - loss: 0.3824 - acc: 0.8267\n",
      "Epoch 17/40\n",
      "1875/1875 [==============================] - 169s 90ms/sample - loss: 0.4003 - acc: 0.8043\n",
      "Epoch 18/40\n",
      "1875/1875 [==============================] - 164s 88ms/sample - loss: 0.3895 - acc: 0.8240\n",
      "Epoch 19/40\n",
      "1875/1875 [==============================] - 168s 89ms/sample - loss: 0.3576 - acc: 0.8347\n",
      "Epoch 20/40\n",
      "1875/1875 [==============================] - 164s 88ms/sample - loss: 0.4336 - acc: 0.8192\n",
      "Epoch 21/40\n",
      "1875/1875 [==============================] - 163s 87ms/sample - loss: 0.4046 - acc: 0.7936\n",
      "Epoch 22/40\n",
      "1875/1875 [==============================] - 163s 87ms/sample - loss: 0.4729 - acc: 0.7808\n",
      "Epoch 23/40\n",
      "1875/1875 [==============================] - 163s 87ms/sample - loss: 0.3985 - acc: 0.8213\n",
      "Epoch 24/40\n",
      "1875/1875 [==============================] - 165s 88ms/sample - loss: 0.3905 - acc: 0.8123\n",
      "Epoch 25/40\n",
      "1875/1875 [==============================] - 167s 89ms/sample - loss: 0.3954 - acc: 0.8005\n",
      "Epoch 26/40\n",
      "1875/1875 [==============================] - 167s 89ms/sample - loss: 0.3440 - acc: 0.8368\n",
      "Epoch 27/40\n",
      "1875/1875 [==============================] - 167s 89ms/sample - loss: 0.3490 - acc: 0.8373\n",
      "Epoch 28/40\n",
      "1875/1875 [==============================] - 168s 90ms/sample - loss: 0.3459 - acc: 0.8384\n",
      "Epoch 29/40\n",
      "1875/1875 [==============================] - 169s 90ms/sample - loss: 0.3286 - acc: 0.8475\n",
      "Epoch 30/40\n",
      "1875/1875 [==============================] - 378s 202ms/sample - loss: 0.3206 - acc: 0.8571\n",
      "Epoch 31/40\n",
      "1875/1875 [==============================] - 133s 71ms/sample - loss: 0.3602 - acc: 0.8352\n",
      "Epoch 32/40\n",
      "1875/1875 [==============================] - 142s 76ms/sample - loss: 0.3658 - acc: 0.8384\n",
      "Epoch 33/40\n",
      "1875/1875 [==============================] - 145s 77ms/sample - loss: 0.3640 - acc: 0.8261\n",
      "Epoch 34/40\n",
      "1875/1875 [==============================] - 145s 77ms/sample - loss: 0.3234 - acc: 0.8528\n",
      "Epoch 35/40\n",
      "1875/1875 [==============================] - 145s 77ms/sample - loss: 0.3387 - acc: 0.8549\n",
      "Epoch 36/40\n",
      "1875/1875 [==============================] - 144s 77ms/sample - loss: 0.3202 - acc: 0.8560\n",
      "Epoch 37/40\n",
      "1875/1875 [==============================] - 144s 77ms/sample - loss: 0.3236 - acc: 0.8517\n",
      "Epoch 38/40\n",
      "1875/1875 [==============================] - 144s 77ms/sample - loss: 0.3337 - acc: 0.8507\n",
      "Epoch 39/40\n",
      "1875/1875 [==============================] - 144s 77ms/sample - loss: 0.3053 - acc: 0.8624\n",
      "Epoch 40/40\n",
      "1875/1875 [==============================] - 144s 77ms/sample - loss: 0.3098 - acc: 0.8571\n"
     ]
    },
    {
     "data": {
      "text/plain": [
       "<tensorflow.python.keras.callbacks.History at 0x1ac91cdcf88>"
      ]
     },
     "execution_count": 11,
     "metadata": {},
     "output_type": "execute_result"
    }
   ],
   "source": [
    "CNN = keras.Sequential([\n",
    "    #cnn\n",
    "    keras.layers.Conv2D(filters=32, kernel_size=(9, 9), activation='relu', input_shape=(128, 128, 3)),\n",
    "    keras.layers.MaxPooling2D((2,2)),\n",
    "    keras.layers.Conv2D(filters=64, kernel_size=(9, 9), activation='selu'),\n",
    "    keras.layers.MaxPooling2D((2,2)),\n",
    "    keras.layers.Conv2D(filters=64, kernel_size=(9, 9), activation='relu'),\n",
    "    keras.layers.MaxPooling2D((2,2)),\n",
    "    keras.layers.Conv2D(filters=64, kernel_size=(9, 9), activation='selu'),\n",
    "\n",
    "    #dense\n",
    "    keras.layers.Flatten(),\n",
    "    keras.layers.Dense(64, activation='relu'),\n",
    "    keras.layers.Dense(2, activation='softmax')\n",
    "])\n",
    "\n",
    "CNN.compile(optimizer='adam', loss = loss_fn, metrics=['accuracy'])\n",
    "\n",
    "CNN.fit(X_train, y_train, epochs=40)"
   ]
  },
  {
   "cell_type": "code",
   "execution_count": 12,
   "metadata": {},
   "outputs": [
    {
     "name": "stdout",
     "output_type": "stream",
     "text": [
      "469/469 [==============================] - 8s 17ms/sample - loss: 0.4318 - acc: 0.8358\n"
     ]
    },
    {
     "data": {
      "text/plain": [
       "[0.4317952188601626, 0.8358209]"
      ]
     },
     "execution_count": 12,
     "metadata": {},
     "output_type": "execute_result"
    }
   ],
   "source": [
    "CNN.evaluate(X_test, y_test)"
   ]
  },
  {
   "cell_type": "code",
   "execution_count": null,
   "metadata": {},
   "outputs": [],
   "source": []
  }
 ],
 "metadata": {
  "kernelspec": {
   "display_name": "Python 3",
   "language": "python",
   "name": "python3"
  },
  "language_info": {
   "codemirror_mode": {
    "name": "ipython",
    "version": 3
   },
   "file_extension": ".py",
   "mimetype": "text/x-python",
   "name": "python",
   "nbconvert_exporter": "python",
   "pygments_lexer": "ipython3",
   "version": "3.7.9"
  }
 },
 "nbformat": 4,
 "nbformat_minor": 4
}
